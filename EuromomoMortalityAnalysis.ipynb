{
 "cells": [
  {
   "cell_type": "code",
   "execution_count": null,
   "metadata": {},
   "outputs": [],
   "source": [
    "%load_ext autoreload\n",
    "%autoreload 2\n",
    "\n",
    "import seaborn as sns\n",
    "sns.set_context('talk')\n",
    "import pandas as pd\n",
    "import numpy as np\n",
    "from matplotlib import pyplot as plt\n",
    "%config InlineBackend.figure_format = 'retina'\n",
    "from datetime import timedelta\n",
    "import datetime as dt\n",
    "import scipy\n",
    "import matplotlib.dates as mdates\n",
    "import matplotlib.cbook as cbook\n",
    "from matplotlib.dates import MonthLocator, WeekdayLocator, DateFormatter\n",
    "import pickle\n",
    "\n",
    "from get_data.get_euromomo_data import get_euromomo_data\n",
    "from get_data.get_data import get_ecdc_data,\\\n",
    "                        get_data_UK,\\\n",
    "                        get_data_Spain, \\\n",
    "                        get_data_Austria, \\\n",
    "                        get_data_Malta, \\\n",
    "                        get_data_Italy, \\\n",
    "                        get_data_Belgium,\\\n",
    "                        get_data_France, \\\n",
    "                        get_data_Portugal, \\\n",
    "                        get_data_Berlin,\\\n",
    "                        get_data_Norway,\\\n",
    "                        get_data_Netherlands,\\\n",
    "                        get_data_Denmark,\\\n",
    "                        get_data_Switzerland,\\\n",
    "                        get_data_Ireland,\\\n",
    "                        get_data_Greece,\\\n",
    "                        get_data_Luxemburg,\\\n",
    "                        get_data_Estonia,\\\n",
    "                        get_data_Sweden,\\\n",
    "                        get_data_Hesse"
   ]
  },
  {
   "cell_type": "markdown",
   "metadata": {},
   "source": [
    "## Get ECDC data and group all Europe"
   ]
  },
  {
   "cell_type": "code",
   "execution_count": null,
   "metadata": {},
   "outputs": [],
   "source": [
    "ecdc_data=get_ecdc_data(continent='Europe')\n",
    "ecdc_europe=ecdc_data.groupby(by='date',as_index=False).sum()\n",
    "ecdc_europe.deaths.clip(0,inplace=True)\n",
    "ecdc_europe['state']='Europe'\n",
    "ecdc_europe['datasource']='ecdc.europa.eu'\n",
    "\n",
    "\n"
   ]
  },
  {
   "cell_type": "markdown",
   "metadata": {},
   "source": [
    "## Print list of countries in ECDC Europe"
   ]
  },
  {
   "cell_type": "code",
   "execution_count": null,
   "metadata": {},
   "outputs": [],
   "source": [
    "\n",
    "from pprint import pprint\n",
    "countries=(str(ecdc_data.state.unique())).strip('[]')\n",
    "print('Countries in this data set:\\n', countries)\n"
   ]
  },
  {
   "cell_type": "markdown",
   "metadata": {},
   "source": [
    "# Get data for individual Euromomo countries"
   ]
  },
  {
   "cell_type": "code",
   "execution_count": null,
   "metadata": {
    "scrolled": true
   },
   "outputs": [],
   "source": [
    "countries=['Austria', 'Belgium', 'Denmark', 'Estonia', 'Finland', 'France','Greece', 'Hungary','Ireland', \n",
    "           'Italy', 'Luxembourg', 'Malta', 'Netherlands', 'Norway', 'Portugal', 'Spain', 'Sweden', \n",
    "           'Switzerland', 'UK','Germany (Berlin)','Germany (Hesse)']\n",
    "\n",
    "\n",
    "\n",
    "\n",
    "\n",
    "FI=ecdc_data[ecdc_data.state=='Finland']\n",
    "\n",
    "HU=ecdc_data[ecdc_data.state=='Hungary']\n",
    "\n",
    "ES=get_data_Spain()\n",
    "AT=get_data_Austria()\n",
    "MT=get_data_Malta()\n",
    "IT=get_data_Italy()\n",
    "BE=get_data_Belgium()\n",
    "FR=get_data_France()\n",
    "PT=get_data_Portugal()\n",
    "Berlin=get_data_Berlin()\n",
    "NO=get_data_Norway()\n",
    "NL=get_data_Netherlands()\n",
    "DK=get_data_Denmark()\n",
    "CH=get_data_Switzerland()\n",
    "IE=get_data_Ireland()\n",
    "GR=get_data_Greece()\n",
    "LU=get_data_Luxemburg()\n",
    "EE=get_data_Estonia()\n",
    "SE=get_data_Sweden()\n",
    "Hesse=get_data_Hesse()\n",
    "UK=get_data_UK()\n",
    "\n",
    "df=pd.concat([FI,HU,ES,AT,MT,IT,BE,FR,PT,Berlin,\n",
    "              NO,NL,DK,CH,IE,GR,LU,EE,SE,Hesse,UK])\n",
    "\n",
    "\n",
    "if len(countries)==len(df.state.unique()):\n",
    "    print('All Euromomo countries done')\n",
    "else: print('Something is wrong')\n",
    "\n",
    "# Convert all timestamps to same time zone\n",
    "df['date']=pd.to_datetime(df.date,utc=True)\n",
    "# Get list of countries and datasource\n",
    "\n"
   ]
  },
  {
   "cell_type": "code",
   "execution_count": null,
   "metadata": {},
   "outputs": [],
   "source": [
    "# Inspect dataframe \n",
    "df"
   ]
  },
  {
   "cell_type": "code",
   "execution_count": null,
   "metadata": {},
   "outputs": [],
   "source": [
    "datasources=df.drop_duplicates('state',ignore_index=True)\n",
    "datasources=datasources[['state','datasource']]\n",
    "datasources=datasources.sort_values(by='state').reset_index()\n",
    "# Get only relevant columns\n",
    "\n",
    "## Output the list of data sources\n",
    "\n",
    "fig, ax = plt.subplots(figsize=(12, 5)) # set size frame\n",
    "ax.xaxis.set_visible(False)  # hide the x axis\n",
    "ax.yaxis.set_visible(False)  # hide the y axis\n",
    "ax.set_frame_on(False) \n",
    "\n",
    "fig=pd.plotting.table(ax,datasources[['state','datasource']],loc='upper right')  # where df is your data frame\n",
    "fig.set_fontsize(30)\n",
    "\n",
    "plt.savefig('plots/Euromomo_data_sources.png',dpi=200)\n",
    "\n"
   ]
  },
  {
   "cell_type": "code",
   "execution_count": null,
   "metadata": {},
   "outputs": [],
   "source": [
    "\n",
    "# Now group by date\n",
    "df=df[['date','positive','deaths','total']].groupby(by='date',as_index=False).sum()"
   ]
  },
  {
   "cell_type": "code",
   "execution_count": null,
   "metadata": {
    "scrolled": true
   },
   "outputs": [],
   "source": [
    "df\n"
   ]
  },
  {
   "cell_type": "markdown",
   "metadata": {},
   "source": [
    "# Get EU/EEA & UK test and other data"
   ]
  },
  {
   "cell_type": "code",
   "execution_count": null,
   "metadata": {},
   "outputs": [],
   "source": [
    "# Get EU/EEA & UK Tests\n",
    "\n",
    "from get_data.get_data_ecdc import get_data_ecdc_tests\n",
    "\n",
    "EUtestdf=get_data_ecdc_tests()\n",
    "\n",
    "# Get other data only for only EU/EEA & UK \n",
    "ecdc_EUtest=ecdc_data[ecdc_data.state.isin(list(EUtestdf.country.unique()))]\n",
    "\n",
    "#from pprint import pprint\n",
    "countries=(str(ecdc_EUtest.state.unique())).strip('[]')\n",
    "print('EU cases & deaths: Countries in this data set:\\n', countries)\n",
    "\n",
    "ecdc_EUtest=ecdc_EUtest.groupby(by='date',as_index=False).sum()\n",
    "ecdc_EUtest.deaths.clip(0,inplace=True)\n",
    "ecdc_EUtest['state']='EU/EEA & UK'\n",
    "ecdc_EUtest['datasource']='ecdc.europa.eu'\n",
    "ecdc_EUtest['positive_avg']=ecdc_EUtest.positive.rolling(window=7,center=True).mean()\n",
    "\n",
    "print('EU tests: Countries in this data set:\\n', (str(EUtestdf.country.unique())).strip('[]'))\n",
    "\n",
    "#EUtest['date']=pd.to_datetime(EUtest.date)\n",
    "EUtest=EUtestdf.groupby('year_week',as_index=False).sum()\n",
    "\n",
    "#(EUtest['year_week'].apply(str)).strip()\n",
    "\n",
    "EUtest['date']=pd.to_datetime(EUtestdf.year_week.add('-0'), format='%Y-W%W-%w')-dt.timedelta(5)\n",
    "\n",
    "from dataframe_utilities import ECDC_week2day\n",
    "\n",
    "EUtestdaily=ECDC_week2day(EUtest,'tests_done','dailytests')\n",
    "EUtestdaily['dailytestsavg']=EUtestdaily.dailytests.rolling(window=7,center=True).mean()"
   ]
  },
  {
   "cell_type": "code",
   "execution_count": null,
   "metadata": {},
   "outputs": [],
   "source": [
    "EUtest"
   ]
  },
  {
   "cell_type": "code",
   "execution_count": null,
   "metadata": {},
   "outputs": [],
   "source": [
    "EUtestdaily"
   ]
  },
  {
   "cell_type": "markdown",
   "metadata": {},
   "source": [
    "## Estimate false positives\n"
   ]
  },
  {
   "cell_type": "code",
   "execution_count": null,
   "metadata": {},
   "outputs": [],
   "source": [
    "EUtestdaily=(pd.merge(EUtestdaily,ecdc_EUtest,on='date',how='outer')).reset_index(drop=True)"
   ]
  },
  {
   "cell_type": "code",
   "execution_count": null,
   "metadata": {},
   "outputs": [],
   "source": [
    "EUtestdaily.sort_values(by='date',inplace=True)"
   ]
  },
  {
   "cell_type": "code",
   "execution_count": null,
   "metadata": {},
   "outputs": [],
   "source": [
    "EUtestdaily"
   ]
  },
  {
   "cell_type": "code",
   "execution_count": null,
   "metadata": {},
   "outputs": [],
   "source": [
    "EU_cases_deaths_tests_fpr=EUtestdaily.rename(columns={'dailytests':'total'})\n",
    "#EU_cases_deaths_tests_fpr.to_pickle(\"./EU_EEA_UK_df.pkl\")"
   ]
  },
  {
   "cell_type": "code",
   "execution_count": null,
   "metadata": {},
   "outputs": [],
   "source": []
  },
  {
   "cell_type": "code",
   "execution_count": null,
   "metadata": {},
   "outputs": [],
   "source": [
    "from rogan_gladen.mk_hpd import mk_hpd\n",
    "from rogan_gladen.mk_true_positive import mk_true_positive\n",
    "\n",
    "df_for_fpr=pd.DataFrame({'date':EUtestdaily.date,'positive':EUtestdaily.positive_avg,\n",
    "                        'total':EUtestdaily.dailytestsavg})\n",
    "df_for_fpr.dropna(inplace=True)\n",
    "df_for_fpr.drop(df_for_fpr[df_for_fpr.total<df_for_fpr.positive].index,inplace=True)\n",
    "                        \n"
   ]
  },
  {
   "cell_type": "code",
   "execution_count": null,
   "metadata": {},
   "outputs": [],
   "source": [
    "df_for_fpr"
   ]
  },
  {
   "cell_type": "code",
   "execution_count": null,
   "metadata": {},
   "outputs": [],
   "source": [
    "obs_positive_trace,data=mk_true_positive(df_for_fpr)"
   ]
  },
  {
   "cell_type": "code",
   "execution_count": null,
   "metadata": {},
   "outputs": [],
   "source": [
    "EU_true=mk_hpd(obs_positive_trace,data)"
   ]
  },
  {
   "cell_type": "code",
   "execution_count": null,
   "metadata": {},
   "outputs": [],
   "source": [
    "EU_true"
   ]
  },
  {
   "cell_type": "code",
   "execution_count": null,
   "metadata": {},
   "outputs": [],
   "source": [
    "\n",
    "#pickle.dump(EU_true, open( \"EUtrue.p\", \"wb\" ) )\n"
   ]
  },
  {
   "cell_type": "code",
   "execution_count": null,
   "metadata": {},
   "outputs": [],
   "source": [
    "EUtestdailyfpr=EUtestdaily.merge(EU_true,on='date',how='outer')"
   ]
  },
  {
   "cell_type": "code",
   "execution_count": null,
   "metadata": {
    "scrolled": true
   },
   "outputs": [],
   "source": [
    "EUtestdaily.rename(columns={'dailytests':'total'},inplace=True)"
   ]
  },
  {
   "cell_type": "code",
   "execution_count": null,
   "metadata": {},
   "outputs": [],
   "source": [
    "from get_plots import plot_fpr\n",
    "\n",
    "plot_fpr(EUtestdaily,EUtestdailyfpr,country='EU/EEA & UK',\n",
    "           datasource='Data source: www.ecdc.europa.eu',mynotes=True) #.plot(x='date',y=['positive','falsepositive','truepositive'])"
   ]
  },
  {
   "cell_type": "code",
   "execution_count": null,
   "metadata": {},
   "outputs": [],
   "source": [
    "\n",
    "from get_plots import mirrorplot,mirrorplot_withtest\n",
    "mirrorplot(ecdc_EUtest,country='EU/EEA & UK',\n",
    "           datasource='Data source: www.ecdc.europa.eu',mirror=False,mynotes=True)\n",
    "#mirrorplot(euromomo_all,state='Euromomo countries',datasource='(From respective national data sources)',mirror=False)\n",
    "\n"
   ]
  },
  {
   "cell_type": "code",
   "execution_count": null,
   "metadata": {},
   "outputs": [],
   "source": [
    "mirrorplot_withtest(ecdc_EUtest,EUtestdaily,country='EU/EEA & UK',\n",
    "           datasource='Data source: www.ecdc.europa.eu',mirror=False,mynotes=True)"
   ]
  },
  {
   "cell_type": "code",
   "execution_count": null,
   "metadata": {},
   "outputs": [],
   "source": [
    "# Get total of Covid deaths\n",
    "covid=df.groupby('date',as_index=False)[('deaths','positive')].agg('sum')\n",
    "covid['date']=covid.date.dt.tz_localize(None)\n",
    "\n",
    "\n",
    "fig, ax = plt.subplots(figsize=(15, 8))\n",
    "plt.title('Official Covid numbers in Euromomo countries')\n",
    "covid.plot(x='date',y='positive',ax=ax,color='blue',label='cases')#\n",
    "covid.plot(x='date',y='deaths',ax=ax,color='red',label='deaths')#\n",
    "plt.legend()\n",
    "plt.ylabel('daily numbers')\n",
    "\n",
    "fig.set_facecolor('w')\n",
    "\n",
    "sns.despine;\n",
    "plt.savefig('plots/OfficialCovid_CasesDeaths.png',dpi=250)\n",
    "plt.show()\n",
    "\n",
    "\n",
    "# Get total of Covid deaths\n",
    "#covid=df.groupby('date',as_index=False)[('deaths','positive')].agg('sum')\n",
    "#covid['date']=covid.date.dt.tz_localize(None)\n",
    "\n",
    "\n",
    "fig, ax = plt.subplots(figsize=(15, 8))\n",
    "plt.title('Official Covid deaths in Euromomo countries')\n",
    "\n",
    "covid.plot(x='date',y='deaths',ax=ax,color='red',legend=False)#\n",
    "#plt.legend()\n",
    "plt.ylabel('daily deaths')\n",
    "\n",
    "fig.set_facecolor('w')\n",
    "\n",
    "sns.despine;\n",
    "plt.savefig('plots/OfficialCovidDeaths.png',dpi=250)\n",
    "plt.show()\n",
    "\n",
    "\n"
   ]
  },
  {
   "cell_type": "code",
   "execution_count": null,
   "metadata": {},
   "outputs": [],
   "source": [
    "#weekly deaths\n",
    "covidweekly= covid.resample('W', on='date').sum()\n",
    "covidweekly.reset_index(level=0, inplace=True)"
   ]
  },
  {
   "cell_type": "markdown",
   "metadata": {},
   "source": [
    "# Get Euromomo data"
   ]
  },
  {
   "cell_type": "code",
   "execution_count": null,
   "metadata": {},
   "outputs": [],
   "source": [
    "data=get_euromomo_data()\n",
    "data.tail()"
   ]
  },
  {
   "cell_type": "markdown",
   "metadata": {},
   "source": [
    "#  Plot Euromomo deaths & baseline graph"
   ]
  },
  {
   "cell_type": "code",
   "execution_count": null,
   "metadata": {},
   "outputs": [],
   "source": [
    "from scipy.signal import find_peaks, peak_prominences\n",
    "peaks, _= find_peaks(data.deaths.values,prominence=(10000,None))\n",
    "troughs, _= find_peaks(-data.deaths.values,prominence=(None,5000))\n",
    "troughs=np.append(troughs,[data.index[-1]])\n",
    "prominences = peak_prominences(data.deaths.values, peaks)[0]\n",
    "\n",
    "contour_heights = data.deaths.iloc[peaks] - prominences\n",
    "\n",
    "print(peaks)"
   ]
  },
  {
   "cell_type": "code",
   "execution_count": null,
   "metadata": {},
   "outputs": [],
   "source": [
    "baseline_peaks, _= find_peaks(data.baseline.values,prominence=1000)\n",
    "baseline_troughs, _= find_peaks(-data.baseline.values,prominence=1000)\n",
    "\n",
    "print(baseline_peaks,baseline_troughs)\n",
    "\n",
    "\n",
    "baseline_prominences = peak_prominences(data.baseline.values, baseline_peaks)[0]\n",
    "print(baseline_prominences)\n",
    "\n",
    "baseline_contour_heights = data.baseline.iloc[peaks] - baseline_prominences"
   ]
  },
  {
   "cell_type": "code",
   "execution_count": null,
   "metadata": {},
   "outputs": [],
   "source": [
    "baseline_peaks"
   ]
  },
  {
   "cell_type": "code",
   "execution_count": null,
   "metadata": {},
   "outputs": [],
   "source": [
    "\n",
    "fig, ax = plt.subplots(figsize=(15, 8))\n",
    "data.plot(x=\"date\", y=\"deaths\",color='blue',ax=ax)\n",
    "data.loc[troughs].plot.scatter(x='date',y='deaths',marker='v',color='green',s=150,ax=ax)\n",
    "data.loc[peaks].plot.scatter(x='date',y='deaths',marker='^',color='red',s=150,ax=ax)\n",
    "data.plot(x='date',y='baseline',color='gray',ax=ax)\n",
    "\n",
    "data.loc[baseline_troughs].plot.scatter(x='date',y='baseline',marker='+',color='green',s=250,ax=ax)\n",
    "data.loc[baseline_peaks].plot.scatter(x='date',y='baseline',marker='+',color='red',s=250,ax=ax)\n",
    "\n",
    "ax.fill_between(data.date,data.baseline_upper,data.baseline_lower, alpha=0.35,color='gray')\n",
    "\n",
    "sns.despine;\n",
    "plt.show()"
   ]
  },
  {
   "cell_type": "code",
   "execution_count": null,
   "metadata": {},
   "outputs": [],
   "source": [
    "#Find the cumulative sum of deaths in each peak\n",
    "\n",
    "totaldeathsarray=[]\n",
    "\n",
    "for i in np.arange(len(peaks)-1):\n",
    "    totaldeaths=data.deaths.iloc[troughs[i]:troughs[i+1]].sum()\n",
    "    totaldeathsarray.append(totaldeaths)"
   ]
  },
  {
   "cell_type": "code",
   "execution_count": null,
   "metadata": {},
   "outputs": [],
   "source": [
    "#Find the cumulative sum of deaths between troughs in the baseline\n",
    "\n",
    "\n",
    "baseline_totaldeathsarray=[]\n",
    "\n",
    "\n",
    "for i in np.arange(len(baseline_peaks)-1):\n",
    "    baseline_totaldeaths=data.deaths.iloc[baseline_troughs[i]:baseline_troughs[i+1]].sum()\n",
    "    baseline_totaldeathsarray.append(baseline_totaldeaths)\n",
    "    \n",
    "    "
   ]
  },
  {
   "cell_type": "code",
   "execution_count": null,
   "metadata": {},
   "outputs": [],
   "source": [
    "def weekdiff(start, end):\n",
    "    days = pd.to_datetime(end) - pd.to_datetime(start)\n",
    "    week = int(pd.Timedelta(days).days / 7)\n",
    "    remainder = pd.Timedelta(days).days % 7\n",
    "    #print(week)\n",
    "    return week\n",
    "\n",
    "trough_to_trough_interval=[]\n",
    "intervaldates=[]\n",
    "\n",
    "for i in np.arange(1,len(troughs)):\n",
    "\n",
    "    trough_to_trough_interval.append(weekdiff(data.date.iloc[troughs[i-1]],data.date.iloc[troughs[i]]))\n",
    "    intervaldates.append((data.date.iloc[troughs[i-1]].strftime(\"%d %b %Y\") ,data.date.iloc[troughs[i]].strftime(\"%d %b %Y\") ))"
   ]
  },
  {
   "cell_type": "code",
   "execution_count": null,
   "metadata": {},
   "outputs": [],
   "source": [
    "baseline_trough_to_trough_interval=[]\n",
    "baseline_intervaldates=[]\n",
    "\n",
    "for i in np.arange(1,len(baseline_troughs)):\n",
    "\n",
    "    baseline_trough_to_trough_interval.append(weekdiff(data.date.iloc[baseline_troughs[i-1]],\n",
    "                                                       data.date.iloc[baseline_troughs[i]]))\n",
    "    baseline_intervaldates.append((data.date.iloc[baseline_troughs[i-1]].strftime(\"%d %b %Y\") ,\n",
    "                                   data.date.iloc[baseline_troughs[i]].strftime(\"%d %b %Y\") ))"
   ]
  },
  {
   "cell_type": "code",
   "execution_count": null,
   "metadata": {},
   "outputs": [],
   "source": [
    "# Find the start and end points of the pandemic spike\n",
    "pandemic=data[(data.date>pd.Timestamp('2020-02-26')) & (data.date<pd.Timestamp('2020-06-08'))]\n",
    "\n",
    "\n",
    "\n",
    "\n",
    "\n",
    "data['noncovidbaseline']=data.deaths\n",
    "data.loc[pandemic.index.values,'noncovidbaseline']=None\n",
    "\n",
    "data['noncovidbaseline']=data['noncovidbaseline'].interpolate(method='akima')\n",
    "\n"
   ]
  },
  {
   "cell_type": "code",
   "execution_count": null,
   "metadata": {},
   "outputs": [],
   "source": []
  },
  {
   "cell_type": "code",
   "execution_count": null,
   "metadata": {},
   "outputs": [],
   "source": [
    "from dataframe_utilities import insert_row\n",
    "last_index=pandemic.index[-1]\n",
    "first_index=pandemic.index[0]\n",
    "\n",
    "pandemic=insert_row(first_index-1,pandemic,data.iloc[first_index-1])\n",
    "pandemic=insert_row(last_index+1,pandemic,data.iloc[last_index+1])\n",
    "pandemic.sort_index(inplace=True)"
   ]
  },
  {
   "cell_type": "code",
   "execution_count": null,
   "metadata": {},
   "outputs": [],
   "source": [
    "yearlyintervals=[]\n",
    "for i in np.arange(4):\n",
    "    yearlyintervals.append(data.date.iloc[-1-i*52])\n",
    "    \n",
    "    \n",
    "for yearlyinterval in yearlyintervals: print(yearlyinterval)\n",
    "    \n",
    "year_to_year_interval=[]\n",
    "for i in np.arange(1,len(yearlyintervals)):\n",
    "\n",
    "    year_to_year_interval.append(weekdiff(yearlyintervals[i],yearlyintervals[i-1]))\n",
    "    \n",
    "yearlyindices=data[data.date.isin(yearlyintervals)].index\n",
    "    \n",
    "#Find the cumulative sum of deaths for every year starting from latest date in series, going backwards\n",
    "\n",
    "\n",
    "yearly_totaldeathsarray=[]\n",
    "\n",
    "\n",
    "for i in np.arange(len(yearlyintervals)-1):\n",
    "    yearly_totaldeaths=data.deaths.iloc[yearlyindices[i]:yearlyindices[i+1]].sum()\n",
    "    yearly_totaldeathsarray.append(yearly_totaldeaths)\n",
    "    \n",
    "    "
   ]
  },
  {
   "cell_type": "code",
   "execution_count": null,
   "metadata": {},
   "outputs": [],
   "source": [
    "yearly_totaldeathsarray"
   ]
  },
  {
   "cell_type": "code",
   "execution_count": null,
   "metadata": {},
   "outputs": [],
   "source": []
  },
  {
   "cell_type": "code",
   "execution_count": null,
   "metadata": {},
   "outputs": [],
   "source": [
    "data.date[yearlyindices[0]]"
   ]
  },
  {
   "cell_type": "code",
   "execution_count": null,
   "metadata": {},
   "outputs": [],
   "source": [
    "\n",
    "fig, ax = plt.subplots(figsize=(15, 8))\n",
    "\n",
    "data.plot(x=\"date\", y=\"deaths\",color='blue',ax=ax,legend=True,label='Deaths')\n",
    "\n",
    "\n",
    "wrtbaseline=False\n",
    "wrtpeaks=False\n",
    "wrtdate=True\n",
    "\n",
    "\n",
    "if wrtpeaks:\n",
    "    \n",
    "    plt.title('All-age deaths in EUROMOMO countries')\n",
    "\n",
    "    for i in np.arange(len(troughs)):\n",
    "        plt.axvline(data.date.iloc[troughs[i]],ymax=0.9,color='gray',alpha=0.5,linestyle=':')\n",
    "    for i in np.arange(len(troughs)-1):\n",
    "        ax.annotate('{} - {}'.format(intervaldates[i][0],intervaldates[i][1]), xy=(data.date.iloc[peaks[i]], data.deaths.iloc[troughs[i]]  ),\n",
    "                    xytext=(data.date.iloc[troughs[i]+5], 1.05*data.deaths.iloc[peaks[i]]+6000),size=12)\n",
    "        ax.annotate('{:,} weeks'.format(trough_to_trough_interval[i]), xy=(data.date.iloc[peaks[i]], data.deaths.iloc[troughs[i]]  ),\n",
    "                    xytext=(data.date.iloc[troughs[i]+5], 1.05*data.deaths.iloc[peaks[i]]+3000))\n",
    "        ax.annotate('{:,} deaths'.format(int(totaldeathsarray[i])), xy=(data.date.iloc[peaks[i]], data.deaths.iloc[troughs[i]]  ),\n",
    "                    xytext=(data.date.iloc[troughs[i]+5], 1.05*data.deaths.iloc[peaks[i]]))\n",
    "        \n",
    "elif wrtbaseline:\n",
    "    \n",
    "    plt.title('All-age deaths in EUROMOMO countries \\n with total deaths between troughs in baseline')\n",
    "    \n",
    "    for i in np.arange(len(baseline_troughs)):\n",
    "        plt.axvline(data.date.iloc[baseline_troughs[i]],ymax=0.9,color='gray',alpha=0.5,linestyle=':')\n",
    "    for i in np.arange(len(baseline_troughs)-1):\n",
    "        ax.annotate('{} - {}'.format(baseline_intervaldates[i][0],baseline_intervaldates[i][1]),\n",
    "                    xy=(data.date.iloc[baseline_peaks[i]], data.deaths.iloc[baseline_troughs[i]]  ),\n",
    "                    xytext=(data.date.iloc[baseline_troughs[i]+5], \n",
    "                            1.1*data.deaths.iloc[baseline_peaks[i]]+6000),size=12)\n",
    "        ax.annotate('{:,} weeks'.format(baseline_trough_to_trough_interval[i]),\n",
    "                    xy=(data.date.iloc[baseline_peaks[i]], data.deaths.iloc[baseline_troughs[i]]  ),\n",
    "                    xytext=(data.date.iloc[baseline_troughs[i]+5], 1.1*data.deaths.iloc[baseline_peaks[i]]+3000))\n",
    "        ax.annotate('{:,} deaths'.format(int(baseline_totaldeathsarray[i])), \n",
    "                    xy=(data.date.iloc[baseline_peaks[i]], data.deaths.iloc[baseline_troughs[i]]  ),\n",
    "                    xytext=(data.date.iloc[baseline_troughs[i]+5], 1.1*data.deaths.iloc[baseline_peaks[i]]))\n",
    "        \n",
    "elif wrtdate:\n",
    "    \n",
    "    plt.title('All-age deaths in EUROMOMO countries \\n with total deaths for 52-week period')\n",
    "    \n",
    "    for i in np.arange(1,len(yearlyindices)):\n",
    "        plt.axvline(data.date.iloc[yearlyindices[i-1]],ymax=0.9,color='gray',alpha=0.5,linestyle=':')\n",
    "    for i in np.arange(1,len(yearlyindices)):\n",
    "        ax.annotate('{} - {}'.format(data.date.iloc[yearlyindices[i-1]].strftime(\"%d %b %Y\"),data.date.iloc[yearlyindices[i]].strftime(\"%d %b %Y\")),\n",
    "                    xy=(data.date.iloc[yearlyindices[i-1]], data.deaths.iloc[yearlyindices[i-1]] ),\n",
    "                    xytext=(data.date.iloc[yearlyindices[i-1]+5], \n",
    "                            1.3*data.deaths.iloc[yearlyindices[i]]+6000),size=12)\n",
    "#         ax.annotate('{:,} weeks'.format(baseline_trough_to_trough_interval[i]),\n",
    "#                     xy=(data.date.iloc[baseline_peaks[i]], data.deaths.iloc[baseline_troughs[i]]  ),\n",
    "#                     xytext=(data.date.iloc[baseline_troughs[i]+5], 1.1*data.deaths.iloc[baseline_peaks[i]]+3000))\n",
    "        ax.annotate('{:,} deaths'.format(int(yearly_totaldeathsarray[i-1])), \n",
    "                    xy=(data.date.iloc[yearlyindices[i-1]], data.deaths.iloc[yearlyindices[i-1]] ),\n",
    "                    xytext=(data.date.iloc[yearlyindices[i-1]+5], 1.6*data.deaths.iloc[yearlyindices[i]]))\n",
    "            \n",
    "    \n",
    "#sns.set(font_scale=5) \n",
    "#sns.set_style(\"ticks\", {\"xtick.major.size\": 8, \"ytick.major.size\": 8})\n",
    "\n",
    "\n",
    "\n",
    "\n",
    "ax.xaxis.set_major_locator(mdates.YearLocator())\n",
    "\n",
    "ax.xaxis.set_major_locator(mdates.MonthLocator(interval=3))\n",
    "\n",
    "ax.xaxis.set_minor_locator(mdates.MonthLocator())\n",
    "\n",
    "\n",
    "#plt.vlines(x=data.date.iloc[peaks], ymin=contour_heights, ymax=data.deaths.iloc[peaks])\n",
    "\n",
    "#ax.xaxis.set_minor_locator(mdates.WeekdayLocator())\n",
    "#set major ticks format\n",
    "ax.xaxis.set_major_formatter(mdates.DateFormatter('%b %Y'))\n",
    "ax.get_xaxis().set_tick_params(which='major', pad=5)\n",
    "\n",
    "data.plot(x='date',y='baseline',color='orange',ax=ax,label='Euromomo baseline',alpha=0.5)\n",
    "\n",
    "ax.fill_between(data.date,data.baseline_upper,data.baseline_lower, alpha=0.35,color='orange')\n",
    "\n",
    "\n",
    "#x.plot(x=\"date\", y=\"deaths\",color='green',ax=ax,legend=False)\n",
    "\n",
    "\n",
    "ax.legend(fancybox=True, framealpha=1, shadow=False, borderpad=1,\n",
    "          loc='upper left',fontsize='small',facecolor='white')\n",
    "\n",
    "fig.set_facecolor('w')\n",
    "\n",
    "#plt.show()\n",
    "plt.tight_layout();\n",
    "sns.despine;\n",
    "\n",
    "\n",
    "plt.savefig('plots/Euromomo_total_deaths.jpg',dpi=250)\n",
    " "
   ]
  },
  {
   "cell_type": "code",
   "execution_count": null,
   "metadata": {},
   "outputs": [],
   "source": [
    "totalcoviddeaths=(data.deaths-data.noncovidbaseline).cumsum()\n",
    "\n",
    "euromomototalcoviddeaths=(pandemic.deaths-pandemic.baseline).cumsum()\n",
    "\n",
    "data['euromomoexcess']=data.deaths-data.baseline\n",
    "data['totalcoviddeaths']=pd.Series(totalcoviddeaths)\n",
    "data['euromomototalcoviddeaths']=pd.Series(euromomototalcoviddeaths)\n"
   ]
  },
  {
   "cell_type": "code",
   "execution_count": null,
   "metadata": {},
   "outputs": [],
   "source": [
    "#data.merge(covidweekly,on='date',how='outer')"
   ]
  },
  {
   "cell_type": "code",
   "execution_count": null,
   "metadata": {},
   "outputs": [],
   "source": [
    "\n",
    "covidweekly['deathscumulative']=covidweekly.deaths.cumsum()\n"
   ]
  },
  {
   "cell_type": "code",
   "execution_count": null,
   "metadata": {},
   "outputs": [],
   "source": [
    "coviddeaths=data.deaths-data.noncovidbaseline\n",
    "data['coviddeaths']=pd.Series(coviddeaths)\n",
    "\n",
    "\n",
    "fig, ax = plt.subplots(figsize=(15, 8))\n",
    "#data.iloc[index].plot(x='date',y='coviddeaths',label='Weekly excess above Euromomo baseline',ax=ax,color='blue')\n",
    "\n",
    "index=data[data.date>=covidweekly.date.min()].index\n",
    "\n",
    "data.iloc[index-1].plot(x='date',y='euromomoexcess',label='Weekly excess above Euromomo baseline',ax=ax,color='blue')\n",
    "\n",
    "\n",
    "\n",
    "covidweekly.plot(x='date',y='deaths',label='Weekly official Covid deaths',ax=ax,color='red')\n",
    "\n",
    "\n",
    "plt.legend()\n",
    "plt.xlabel('date')# ,fontsize = 20)\n",
    "plt.ylabel('weekly numbers')# ,fontsize = 20)\n",
    "plt.title('Weekly deaths caused by lockdown, Covid, other factors')\n",
    "\n",
    "\n",
    "fig.set_facecolor('w')\n",
    "plt.tight_layout();\n",
    "sns.despine;\n",
    "\n",
    "\n",
    "plt.savefig('plots/weekly_deaths.jpg',dpi=250)\n",
    "\n",
    "print(data.iloc[index-1].euromomoexcess.sum() - covid.deaths.sum())\n",
    "\n"
   ]
  },
  {
   "cell_type": "code",
   "execution_count": null,
   "metadata": {},
   "outputs": [],
   "source": [
    "def week2day(df):\n",
    "    \n",
    "    start=df.date.min()-timedelta(days=6)\n",
    "    dailydeaths=pd.Series(np.array([np.repeat(x1/7,7) for x1 in df.deaths.values]).flatten(),name='dailydeaths').to_frame()\n",
    "    dailybaseline=pd.Series(np.array([np.repeat(x1/7,7) for x1 in df.baseline.values]).flatten(),name='dailybaseline').to_frame()\n",
    "\n",
    "\n",
    "    date=(pd.Series(pd.date_range(start=start,end=df.date.max()),name='date').to_frame()).reset_index(drop=True)\n",
    "\n",
    "    df= date.join(dailydeaths)\n",
    "    df=df.join(dailybaseline)\n",
    "    \n",
    "    df['dailyexcess']=df.dailydeaths-df.dailybaseline\n",
    "    \n",
    "    return df\n",
    "\n",
    "\n",
    "\n",
    "df=week2day(data)\n",
    "df['dailyexcesssmooth']=df.dailyexcess.rolling(7, win_type='gaussian').mean(std=2.5)"
   ]
  },
  {
   "cell_type": "code",
   "execution_count": null,
   "metadata": {},
   "outputs": [],
   "source": [
    "fig, ax = plt.subplots(figsize=(15, 8))\n",
    "\n",
    "\n",
    "\n",
    "index=df[df.date>=covid.date.min()].index\n",
    "\n",
    "df.iloc[index].plot(x='date',y='dailyexcesssmooth',ax=ax,label='Daily excess deaths with respect to Euromomo baseline',color='blue')\n",
    "\n",
    "\n",
    "covid.plot(x='date',y='deaths',ax=ax,label='Daily official Covid deaths',color='red')\n",
    "\n",
    "plt.xlabel('date')# ,fontsize = 20)\n",
    "plt.ylabel('Daily numbers')# ,fontsize = 20)\n",
    "plt.axhline(0,color='gray',alpha=0.5)\n",
    "\n",
    "plt.title('Deaths:  Covid, lockdown, other factors?')\n",
    "#plt.title('EUROMOMO excess deaths during epidemic')\n",
    "\n",
    "plt.legend()\n",
    "fig.set_facecolor('w')\n",
    "plt.tight_layout();\n",
    "sns.despine;\n",
    "\n",
    "plt.savefig('plots/Excess_v_Covid_smoothed.png',dpi=250)"
   ]
  },
  {
   "cell_type": "code",
   "execution_count": null,
   "metadata": {},
   "outputs": [],
   "source": [
    "fig, ax = plt.subplots(figsize=(15, 8))\n",
    "\n",
    "df['dailyexcesssmooth_cumulative']=df.dailyexcesssmooth.cumsum()\n",
    "covid['deaths_cumulative']=covid.deaths.cumsum()\n",
    "\n",
    "\n",
    "index=df[df.date>=covid.date.min()].index\n",
    "\n",
    "df.iloc[index].plot(x='date',y='dailyexcesssmooth_cumulative',ax=ax,label='Daily excess deaths with respect to Euromomo baseline',color='blue')\n",
    "\n",
    "\n",
    "covid.plot(x='date',y='deaths_cumulative',ax=ax,label='Daily official Covid deaths',color='red')\n",
    "\n",
    "plt.xlabel('date')# ,fontsize = 20)\n",
    "plt.ylabel('Cumulative total')# ,fontsize = 20)\n",
    "plt.axhline(0,color='gray',alpha=0.5)\n",
    "\n",
    "plt.title('Deaths:  Covid, lockdown, other factors?')\n",
    "\n",
    "\n",
    "plt.legend()\n",
    "fig.set_facecolor('w')\n",
    "plt.tight_layout();\n",
    "sns.despine;\n",
    "\n",
    "plt.savefig('plots/Excess_v_Covid_smoothed_CUMULATIVE.png',dpi=250)"
   ]
  },
  {
   "cell_type": "code",
   "execution_count": null,
   "metadata": {},
   "outputs": [],
   "source": [
    "df2=pd.merge(df,covid,on='date',how='inner')\n",
    "df2.dropna(inplace=True)\n",
    "df2.rename(columns={'deaths':'coviddeaths'},inplace=True)\n",
    "df2['noncoviddeaths']=df2.dailydeaths-df2.coviddeaths\n",
    "df2['dailydeathssmooth']=df2.dailydeaths.rolling(7, win_type='gaussian').mean(std=2.5)\n",
    "df2['noncoviddeathssmooth']=df2.dailydeathssmooth-df2.coviddeaths"
   ]
  },
  {
   "cell_type": "code",
   "execution_count": null,
   "metadata": {
    "scrolled": true
   },
   "outputs": [],
   "source": [
    "fig, ax = plt.subplots(figsize=(15, 8))\n",
    "\n",
    "\n",
    "\n",
    "#index=df[df.date>=covid.date.min()].index\n",
    "\n",
    "#df.iloc[index].plot(x='date',y='dailyexcesssmooth',ax=ax,label='Daily excess deaths with respect to Euromomo baseline',color='blue')\n",
    "\n",
    "ax.bar(df2.date,df2.dailydeathssmooth,label='Daily all-cause deaths',color='red',alpha=0.3)\n",
    "ax.bar(df2.date,df2.coviddeaths,label='Daily official Covid deaths',color='crimson')\n",
    "\n",
    "#df2.plot.bar(x='date',y='coviddeaths',ax=ax,label='Daily official Covid deaths',color='red')\n",
    "df2.plot(x='date',y='noncoviddeathssmooth',ax=ax,label='Daily non-Covid deaths',color='purple')\n",
    "df2.plot(x='date',y='dailybaseline',ax=ax,label='Daily Euromomo baseline',color='gray',alpha=0.9,linestyle=':')\n",
    "\n",
    "plt.xlabel('date')# ,fontsize = 20)\n",
    "plt.ylabel('Daily numbers')# ,fontsize = 20)\n",
    "\n",
    "\n",
    "plt.title('Deaths across Euromomo countries:  Covid and non-Covid \\n Data: euromomo.eu & individual national Covid data sets' )\n",
    "#plt.title('EUROMOMO excess deaths during epidemic')\n",
    "\n",
    "plt.legend()\n",
    "fig.set_facecolor('w')\n",
    "plt.tight_layout();\n",
    "sns.despine;\n",
    "\n",
    "plt.savefig('plots/EuromomoCovidnonCovid.png',dpi=250)"
   ]
  },
  {
   "cell_type": "code",
   "execution_count": null,
   "metadata": {},
   "outputs": [],
   "source": []
  }
 ],
 "metadata": {
  "kernelspec": {
   "display_name": "Python 3",
   "language": "python",
   "name": "python3"
  },
  "language_info": {
   "codemirror_mode": {
    "name": "ipython",
    "version": 3
   },
   "file_extension": ".py",
   "mimetype": "text/x-python",
   "name": "python",
   "nbconvert_exporter": "python",
   "pygments_lexer": "ipython3",
   "version": "3.7.8"
  }
 },
 "nbformat": 4,
 "nbformat_minor": 4
}
